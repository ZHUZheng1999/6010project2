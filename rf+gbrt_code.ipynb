{
 "cells": [
  {
   "cell_type": "code",
   "execution_count": 2,
   "id": "e8fb4548",
   "metadata": {},
   "outputs": [],
   "source": [
    "import pandas as pd\n",
    "import numpy as np"
   ]
  },
  {
   "cell_type": "code",
   "execution_count": 3,
   "id": "e1964e49",
   "metadata": {},
   "outputs": [],
   "source": [
    "train = pd.read_pickle('./train_data_with_ind.pkl')\n",
    "val = pd.read_pickle('./val_data_with_ind.pkl')\n",
    "# test = pd.read_pickle('./test_data_with_ind.pkl')"
   ]
  },
  {
   "cell_type": "code",
   "execution_count": 4,
   "id": "5b80badf",
   "metadata": {},
   "outputs": [],
   "source": [
    "target = pd.read_pickle('./target.pkl')\n",
    "target.set_index('DATE', drop=True, inplace=True)"
   ]
  },
  {
   "cell_type": "code",
   "execution_count": 5,
   "id": "f81ff2eb",
   "metadata": {},
   "outputs": [],
   "source": [
    "train_target = target.loc['19570101':'19750101']"
   ]
  },
  {
   "cell_type": "code",
   "execution_count": 6,
   "id": "c5061795",
   "metadata": {},
   "outputs": [],
   "source": [
    "import matplotlib.pyplot as plt\n",
    "from sklearn.ensemble import RandomForestRegressor"
   ]
  },
  {
   "cell_type": "code",
   "execution_count": 7,
   "id": "cb0df04e",
   "metadata": {},
   "outputs": [],
   "source": [
    "train.fillna(0, inplace=True)"
   ]
  },
  {
   "cell_type": "code",
   "execution_count": 8,
   "id": "4a969a6d",
   "metadata": {},
   "outputs": [],
   "source": [
    "val.fillna(0, inplace=True)"
   ]
  },
  {
   "cell_type": "code",
   "execution_count": 28,
   "id": "a1948f3f",
   "metadata": {},
   "outputs": [
    {
     "data": {
      "text/html": [
       "<div>\n",
       "<style scoped>\n",
       "    .dataframe tbody tr th:only-of-type {\n",
       "        vertical-align: middle;\n",
       "    }\n",
       "\n",
       "    .dataframe tbody tr th {\n",
       "        vertical-align: top;\n",
       "    }\n",
       "\n",
       "    .dataframe thead th {\n",
       "        text-align: right;\n",
       "    }\n",
       "</style>\n",
       "<table border=\"1\" class=\"dataframe\">\n",
       "  <thead>\n",
       "    <tr style=\"text-align: right;\">\n",
       "      <th></th>\n",
       "      <th>permno</th>\n",
       "      <th>RET</th>\n",
       "    </tr>\n",
       "    <tr>\n",
       "      <th>DATE</th>\n",
       "      <th></th>\n",
       "      <th></th>\n",
       "    </tr>\n",
       "  </thead>\n",
       "  <tbody>\n",
       "    <tr>\n",
       "      <th>19570131</th>\n",
       "      <td>10006</td>\n",
       "      <td>0.064378</td>\n",
       "    </tr>\n",
       "    <tr>\n",
       "      <th>19570131</th>\n",
       "      <td>10014</td>\n",
       "      <td>0.095238</td>\n",
       "    </tr>\n",
       "    <tr>\n",
       "      <th>19570131</th>\n",
       "      <td>10022</td>\n",
       "      <td>0.102041</td>\n",
       "    </tr>\n",
       "    <tr>\n",
       "      <th>19570131</th>\n",
       "      <td>10030</td>\n",
       "      <td>-0.047091</td>\n",
       "    </tr>\n",
       "    <tr>\n",
       "      <th>19570131</th>\n",
       "      <td>10057</td>\n",
       "      <td>-0.090062</td>\n",
       "    </tr>\n",
       "    <tr>\n",
       "      <th>...</th>\n",
       "      <td>...</td>\n",
       "      <td>...</td>\n",
       "    </tr>\n",
       "    <tr>\n",
       "      <th>19741231</th>\n",
       "      <td>84794</td>\n",
       "      <td>-0.233766</td>\n",
       "    </tr>\n",
       "    <tr>\n",
       "      <th>19741231</th>\n",
       "      <td>84903</td>\n",
       "      <td>-0.071429</td>\n",
       "    </tr>\n",
       "    <tr>\n",
       "      <th>19741231</th>\n",
       "      <td>85682</td>\n",
       "      <td>-0.210526</td>\n",
       "    </tr>\n",
       "    <tr>\n",
       "      <th>19741231</th>\n",
       "      <td>92946</td>\n",
       "      <td>-0.285714</td>\n",
       "    </tr>\n",
       "    <tr>\n",
       "      <th>19741231</th>\n",
       "      <td>93172</td>\n",
       "      <td>-0.333333</td>\n",
       "    </tr>\n",
       "  </tbody>\n",
       "</table>\n",
       "<p>479467 rows × 2 columns</p>\n",
       "</div>"
      ],
      "text/plain": [
       "          permno       RET\n",
       "DATE                      \n",
       "19570131   10006  0.064378\n",
       "19570131   10014  0.095238\n",
       "19570131   10022  0.102041\n",
       "19570131   10030 -0.047091\n",
       "19570131   10057 -0.090062\n",
       "...          ...       ...\n",
       "19741231   84794 -0.233766\n",
       "19741231   84903 -0.071429\n",
       "19741231   85682 -0.210526\n",
       "19741231   92946 -0.285714\n",
       "19741231   93172 -0.333333\n",
       "\n",
       "[479467 rows x 2 columns]"
      ]
     },
     "execution_count": 28,
     "metadata": {},
     "output_type": "execute_result"
    }
   ],
   "source": [
    "train_target"
   ]
  },
  {
   "cell_type": "code",
   "execution_count": 10,
   "id": "e7204e81",
   "metadata": {},
   "outputs": [],
   "source": [
    "val_target = target.loc['19750101':'19870101']"
   ]
  },
  {
   "cell_type": "code",
   "execution_count": 92,
   "id": "cd5ad1ab",
   "metadata": {},
   "outputs": [
    {
     "name": "stderr",
     "output_type": "stream",
     "text": [
      "5it [4:12:21, 3028.31s/it]\n"
     ]
    }
   ],
   "source": [
    "for k, i in tqdm(enumerate(range(12, len(val.index.get_level_values(0).unique()[:72]), 12))):\n",
    "    date = val.index.get_level_values(0).unique()[i]\n",
    "    train1 = pd.concat([train, val.loc[:date]], axis=0)\n",
    "    train_target1 = pd.concat([train_target, val_target.loc[:date]], axis=0)\n",
    "    mod = RandomForestRegressor(n_estimators=20, n_jobs=-1)\n",
    "    mod.fit(np.array(train1), np.array(train_target1.loc[:,'RET']))\n",
    "    \n",
    "# 保存模型\n",
    "    with open('rf'+str(k)+'.pkl', 'wb') as file:\n",
    "        pickle.dump(mod, file)"
   ]
  },
  {
   "cell_type": "code",
   "execution_count": 17,
   "id": "20abcc48",
   "metadata": {},
   "outputs": [
    {
     "name": "stderr",
     "output_type": "stream",
     "text": [
      "4it [2:00:11, 1802.88s/it]\n"
     ]
    }
   ],
   "source": [
    "from tqdm import tqdm\n",
    "from sklearn.ensemble import GradientBoostingRegressor\n",
    "import pickle\n",
    "for k, i in tqdm(enumerate(range(12, len(val.index.get_level_values(0).unique()[:72]), 12))):\n",
    "    date = val.index.get_level_values(0).unique()[i]\n",
    "    train1 = pd.concat([train, val.loc[:date]], axis=0)\n",
    "    train_target1 = pd.concat([train_target, val_target.loc[:date]], axis=0)\n",
    "    mod = GradientBoostingRegressor(loss='huber', n_estimators=20, learning_rate=0.1, random_state=123)\n",
    "    mod.fit(np.array(train1), np.array(train_target1.loc[:,'RET']))\n",
    "    \n",
    "# 保存模型\n",
    "    with open('gb'+str(k)+'.pkl', 'wb') as file:\n",
    "        pickle.dump(mod, file)"
   ]
  },
  {
   "cell_type": "code",
   "execution_count": null,
   "id": "7df49fd3",
   "metadata": {},
   "outputs": [],
   "source": [
    "test = pd.read_pickle('./test_data_with_ind.pkl')"
   ]
  },
  {
   "cell_type": "code",
   "execution_count": null,
   "id": "75bd4834",
   "metadata": {},
   "outputs": [],
   "source": [
    "test_target = target.loc['19870101':'20170101']"
   ]
  },
  {
   "cell_type": "code",
   "execution_count": null,
   "id": "12e9d9db",
   "metadata": {},
   "outputs": [],
   "source": [
    "import pickle\n",
    "r_square_rf = []\n",
    "from tqdm import trange\n",
    "for i in trange(5):\n",
    "    \n",
    "    with open('rf'+str(i)+'.pkl', 'rb') as file:\n",
    "        rf = pickle.load(file)\n",
    "    test_pre = rf.predict(np.array(test.loc[test.index.get_level_values(0).unique()[i*12:180]]))\n",
    "    test_target = test_target.loc[test.index.get_level_values(0).unique()[i*12:180]]\n",
    "    r_square_rf.append(1-sum((test_pre - np.array(test_target.iloc[:, 1])) ** 2) / sum(np.array(test_target.iloc[:, 1]) ** 2))\n"
   ]
  },
  {
   "cell_type": "code",
   "execution_count": null,
   "id": "c52a79b6",
   "metadata": {},
   "outputs": [],
   "source": [
    "import matplotlib.pyplot as plt\n",
    "rf_importance = pd.DataFrame(index=test.columns, columns=['importance'])\n",
    "rf_importance.importance = list(rf.feature_importances_)\n",
    "rf_importance.sort_values(by='importance',ascending=False,inplace=True)\n",
    "rf_importance.index = [str(index) for index in rf_importance.index]\n",
    "plt.barh(rf_importance.index[:20], rf_importance.importance.iloc[:20])"
   ]
  },
  {
   "cell_type": "code",
   "execution_count": null,
   "id": "83fce843",
   "metadata": {},
   "outputs": [],
   "source": [
    "r_square_gb = []\n",
    "for i in trange(5):\n",
    "    \n",
    "    with open('gb'+str(i)+'.pkl', 'rb') as file:\n",
    "        gb = pickle.load(file)\n",
    "    test_pre = gb.predict(np.array(test.loc[test.index.get_level_values(0).unique()[i*12:180]]))\n",
    "    test_target = test_target.loc[test.index.get_level_values(0).unique()[i*12:180]]\n",
    "    r_square_gb.append(1-sum((test_pre - np.array(test_target.iloc[:, 1])) ** 2) / sum(np.array(test_target.iloc[:, 1]) ** 2))\n"
   ]
  },
  {
   "cell_type": "code",
   "execution_count": null,
   "id": "77be9ee5",
   "metadata": {},
   "outputs": [],
   "source": [
    "import matplotlib.pyplot as plt\n",
    "gb_importance = pd.DataFrame(index=test.columns, columns=['importance'])\n",
    "gb_importance.importance = list(gb.feature_importances_)\n",
    "gb_importance.sort_values(by='importance',ascending=False,inplace=True)\n",
    "gb_importance.index = [str(index) for index in gb_importance.index]\n",
    "plt.barh(gb_importance.index[:20], gb_importance.importance.iloc[:20])"
   ]
  }
 ],
 "metadata": {
  "kernelspec": {
   "display_name": "Python 3 (ipykernel)",
   "language": "python",
   "name": "python3"
  },
  "language_info": {
   "codemirror_mode": {
    "name": "ipython",
    "version": 3
   },
   "file_extension": ".py",
   "mimetype": "text/x-python",
   "name": "python",
   "nbconvert_exporter": "python",
   "pygments_lexer": "ipython3",
   "version": "3.9.13"
  }
 },
 "nbformat": 4,
 "nbformat_minor": 5
}
